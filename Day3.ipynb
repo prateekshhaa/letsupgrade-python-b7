{
  "nbformat": 4,
  "nbformat_minor": 0,
  "metadata": {
    "colab": {
      "name": "Day3.ipynb",
      "provenance": [],
      "collapsed_sections": [],
      "authorship_tag": "ABX9TyNZZ2mTFm+nC2D3xg4t2yj4",
      "include_colab_link": true
    },
    "kernelspec": {
      "name": "python3",
      "display_name": "Python 3"
    }
  },
  "cells": [
    {
      "cell_type": "markdown",
      "metadata": {
        "id": "view-in-github",
        "colab_type": "text"
      },
      "source": [
        "<a href=\"https://colab.research.google.com/github/prateekshhaa/letsupgrade-python-b7/blob/master/Day3.ipynb\" target=\"_parent\"><img src=\"https://colab.research.google.com/assets/colab-badge.svg\" alt=\"Open In Colab\"/></a>"
      ]
    },
    {
      "cell_type": "markdown",
      "metadata": {
        "id": "wP_86Iuex2t5",
        "colab_type": "text"
      },
      "source": [
        "#question 1"
      ]
    },
    {
      "cell_type": "code",
      "metadata": {
        "id": "VbS8QYZix83D",
        "colab_type": "code",
        "colab": {}
      },
      "source": [
        "a=input(\"Enter the Altitude for Landing : \")\n",
        "a=int(a)\n",
        "if a<=1000:\n",
        "    print(\"Safe to Land\")\n",
        "elif a<=5000:\n",
        "  print(\"Bring down to 1000\")\n",
        "else:\n",
        "  print(\"Turn Around\") "
      ],
      "execution_count": null,
      "outputs": []
    },
    {
      "cell_type": "markdown",
      "metadata": {
        "id": "4csuYpvqyM9C",
        "colab_type": "text"
      },
      "source": [
        "#question 2\n",
        "# using for loop and range function print all the prime number between 1-200"
      ]
    },
    {
      "cell_type": "code",
      "metadata": {
        "id": "w6IGyepHyXit",
        "colab_type": "code",
        "colab": {}
      },
      "source": [
        "lower = 1\n",
        "upper = 200\n",
        "\n",
        "print(\"Prime numbers between\", lower, \"and\", upper, \"are:\")\n",
        "\n",
        "for num in range(lower, upper + 1):\n",
        "   # all prime numbers are greater than 1\n",
        "   if num > 1:\n",
        "       for i in range(2, num):\n",
        "           if (num % i) == 0:\n",
        "               break\n",
        "       else:\n",
        "           print(num)"
      ],
      "execution_count": null,
      "outputs": []
    }
  ]
}