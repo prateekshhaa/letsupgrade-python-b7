{
  "nbformat": 4,
  "nbformat_minor": 0,
  "metadata": {
    "colab": {
      "name": "day2.ipynb",
      "provenance": [],
      "collapsed_sections": [],
      "include_colab_link": true
    },
    "kernelspec": {
      "name": "python3",
      "display_name": "Python 3"
    }
  },
  "cells": [
    {
      "cell_type": "markdown",
      "metadata": {
        "id": "view-in-github",
        "colab_type": "text"
      },
      "source": [
        "<a href=\"https://colab.research.google.com/github/prateekshhaa/letsupgrade-python-b7/blob/master/day2.ipynb\" target=\"_parent\"><img src=\"https://colab.research.google.com/assets/colab-badge.svg\" alt=\"Open In Colab\"/></a>"
      ]
    },
    {
      "cell_type": "markdown",
      "metadata": {
        "id": "waXH6cJO-ceD",
        "colab_type": "text"
      },
      "source": [
        "#List - A list is a collection which is ordered and changeable. In Python lists are written with square brackets.\n",
        "\n",
        "# its functions with examples -\n",
        "\n",
        "#1.append - Adds an item to the end of the list.\n"
      ]
    },
    {
      "cell_type": "code",
      "metadata": {
        "id": "xYEv6MdN_5Em",
        "colab_type": "code",
        "colab": {
          "base_uri": "https://localhost:8080/",
          "height": 34
        },
        "outputId": "5b748489-f3b6-4d50-b995-2bc843e1a8fb"
      },
      "source": [
        "a=[\"prateeksha\",\"sayali\",\"pooja\"]\n",
        "print(a)"
      ],
      "execution_count": null,
      "outputs": [
        {
          "output_type": "stream",
          "text": [
            "['prateeksha', 'sayali', 'pooja']\n"
          ],
          "name": "stdout"
        }
      ]
    },
    {
      "cell_type": "code",
      "metadata": {
        "id": "luc8pLKC_Ohz",
        "colab_type": "code",
        "colab": {
          "base_uri": "https://localhost:8080/",
          "height": 34
        },
        "outputId": "1a98709b-b85a-422c-9f6a-a4aa16356e8f"
      },
      "source": [
        "a.append(\"kiara\")\n",
        "print(a)"
      ],
      "execution_count": null,
      "outputs": [
        {
          "output_type": "stream",
          "text": [
            "['prateeksha', 'sayali', 'pooja', 'kiara']\n"
          ],
          "name": "stdout"
        }
      ]
    },
    {
      "cell_type": "markdown",
      "metadata": {
        "id": "vzHy2gXmA5gV",
        "colab_type": "text"
      },
      "source": [
        "#2.extend - Extends the list by appending all the items from the iterable. This allows you to join two lists together."
      ]
    },
    {
      "cell_type": "code",
      "metadata": {
        "id": "tPub4csxBfvE",
        "colab_type": "code",
        "colab": {
          "base_uri": "https://localhost:8080/",
          "height": 34
        },
        "outputId": "84eca23a-6e66-4304-c0b7-39db12f50b1c"
      },
      "source": [
        "b=[\"pratee\",\"sayli\"]\n",
        "print(b)"
      ],
      "execution_count": null,
      "outputs": [
        {
          "output_type": "stream",
          "text": [
            "['pratee', 'sayli']\n"
          ],
          "name": "stdout"
        }
      ]
    },
    {
      "cell_type": "code",
      "metadata": {
        "id": "Vg15EMaMBtjG",
        "colab_type": "code",
        "colab": {
          "base_uri": "https://localhost:8080/",
          "height": 34
        },
        "outputId": "9db1bcb0-5960-47ab-9a8d-e8f4233332a8"
      },
      "source": [
        "b.extend([\"pooja\",\"kiara\"])\n",
        "print(b)"
      ],
      "execution_count": null,
      "outputs": [
        {
          "output_type": "stream",
          "text": [
            "['pratee', 'sayli', 'pooja', 'kiara']\n"
          ],
          "name": "stdout"
        }
      ]
    },
    {
      "cell_type": "markdown",
      "metadata": {
        "id": "w-jZVhwTCF9a",
        "colab_type": "text"
      },
      "source": [
        "#3.insert - Inserts an item at a given position. The first argument is the index of the element before which to insert."
      ]
    },
    {
      "cell_type": "code",
      "metadata": {
        "id": "T12TTAoqDSWl",
        "colab_type": "code",
        "colab": {
          "base_uri": "https://localhost:8080/",
          "height": 34
        },
        "outputId": "144477ad-98f7-4a90-aa82-26fa50f87f3c"
      },
      "source": [
        "c=[\"pratee\",\"sayli\"]\n",
        "print(c)"
      ],
      "execution_count": null,
      "outputs": [
        {
          "output_type": "stream",
          "text": [
            "['pratee', 'sayli']\n"
          ],
          "name": "stdout"
        }
      ]
    },
    {
      "cell_type": "code",
      "metadata": {
        "id": "Z5rX_FcPDoo8",
        "colab_type": "code",
        "colab": {
          "base_uri": "https://localhost:8080/",
          "height": 34
        },
        "outputId": "4ae673a4-e3d4-4045-f337-0fb6d59c84f1"
      },
      "source": [
        "c.insert(0,\"pooja\")\n",
        "print(c)"
      ],
      "execution_count": null,
      "outputs": [
        {
          "output_type": "stream",
          "text": [
            "['pooja', 'pratee', 'sayli']\n"
          ],
          "name": "stdout"
        }
      ]
    },
    {
      "cell_type": "markdown",
      "metadata": {
        "id": "1DqiJFjAD06p",
        "colab_type": "text"
      },
      "source": [
        "#4.remove- Removes the first item from the list"
      ]
    },
    {
      "cell_type": "code",
      "metadata": {
        "id": "jS7m4UTGEZpW",
        "colab_type": "code",
        "colab": {
          "base_uri": "https://localhost:8080/",
          "height": 34
        },
        "outputId": "61027fd7-88f2-4ff1-c186-b53a6151e5fc"
      },
      "source": [
        "d=[\"sayli\",\"pooja\"]\n",
        "print(d)"
      ],
      "execution_count": null,
      "outputs": [
        {
          "output_type": "stream",
          "text": [
            "['sayli', 'pooja']\n"
          ],
          "name": "stdout"
        }
      ]
    },
    {
      "cell_type": "code",
      "metadata": {
        "id": "qHf5npRCEiGw",
        "colab_type": "code",
        "colab": {
          "base_uri": "https://localhost:8080/",
          "height": 34
        },
        "outputId": "00f61c40-bec4-4640-8084-f90394579b04"
      },
      "source": [
        "d.remove(\"sayli\")\n",
        "print(d)"
      ],
      "execution_count": null,
      "outputs": [
        {
          "output_type": "stream",
          "text": [
            "['pooja']\n"
          ],
          "name": "stdout"
        }
      ]
    },
    {
      "cell_type": "markdown",
      "metadata": {
        "id": "a-CqsDVRE2O4",
        "colab_type": "text"
      },
      "source": [
        "#5.pop-Removes the item at the given position in the list, and returns it. If no index is specified, pop removes and returns the last item in the list."
      ]
    },
    {
      "cell_type": "code",
      "metadata": {
        "id": "ovpCPFUDFOKx",
        "colab_type": "code",
        "colab": {
          "base_uri": "https://localhost:8080/",
          "height": 34
        },
        "outputId": "fb0fe9c0-c47c-4307-896b-1003684a46cc"
      },
      "source": [
        "e=[\"sayli\",\"pooja\",\"pratee\"]\n",
        "print(e)"
      ],
      "execution_count": null,
      "outputs": [
        {
          "output_type": "stream",
          "text": [
            "['sayli', 'pooja', 'pratee']\n"
          ],
          "name": "stdout"
        }
      ]
    },
    {
      "cell_type": "code",
      "metadata": {
        "id": "J01Xcxi3Fdc2",
        "colab_type": "code",
        "colab": {
          "base_uri": "https://localhost:8080/",
          "height": 34
        },
        "outputId": "20dbb2bb-347c-4500-a463-303da141fa7f"
      },
      "source": [
        "e.pop()\n",
        "print(e)"
      ],
      "execution_count": null,
      "outputs": [
        {
          "output_type": "stream",
          "text": [
            "['sayli']\n"
          ],
          "name": "stdout"
        }
      ]
    },
    {
      "cell_type": "code",
      "metadata": {
        "id": "gaiZnOBGFykh",
        "colab_type": "code",
        "colab": {
          "base_uri": "https://localhost:8080/",
          "height": 34
        },
        "outputId": "73290b11-ec86-4b4a-8713-77ef95a18784"
      },
      "source": [
        "e.pop(0)\n",
        "print(e)"
      ],
      "execution_count": null,
      "outputs": [
        {
          "output_type": "stream",
          "text": [
            "[]\n"
          ],
          "name": "stdout"
        }
      ]
    },
    {
      "cell_type": "code",
      "metadata": {
        "id": "hxJT_YgGF7WB",
        "colab_type": "code",
        "colab": {}
      },
      "source": [
        ""
      ],
      "execution_count": null,
      "outputs": []
    },
    {
      "cell_type": "markdown",
      "metadata": {
        "id": "dgGO8tzs6FqZ",
        "colab_type": "text"
      },
      "source": [
        "#Dictionary - A dictionary is a collection which is unordered, changeable and indexed. In Python dictionaries are written with curly brackets, and they have keys and values.\n",
        "\n",
        "#Functions-\n",
        "\n",
        "#1.clear - Removes all the elements from the dictionary"
      ]
    },
    {
      "cell_type": "code",
      "metadata": {
        "id": "iCBPalI78XFX",
        "colab_type": "code",
        "colab": {
          "base_uri": "https://localhost:8080/",
          "height": 35
        },
        "outputId": "c4916eec-3952-4009-ed03-cba17ccc30bb"
      },
      "source": [
        "a = {1:\"sayali\",2:\"pooja\"}\n",
        "print(a)"
      ],
      "execution_count": 1,
      "outputs": [
        {
          "output_type": "stream",
          "text": [
            "{1: 'sayali', 2: 'pooja'}\n"
          ],
          "name": "stdout"
        }
      ]
    },
    {
      "cell_type": "code",
      "metadata": {
        "id": "eRBm-kmO9pxf",
        "colab_type": "code",
        "colab": {
          "base_uri": "https://localhost:8080/",
          "height": 35
        },
        "outputId": "2661d20e-9aaf-48ca-91f0-43b16ff5c758"
      },
      "source": [
        "a.clear()\n",
        "print(a)"
      ],
      "execution_count": 2,
      "outputs": [
        {
          "output_type": "stream",
          "text": [
            "{}\n"
          ],
          "name": "stdout"
        }
      ]
    },
    {
      "cell_type": "markdown",
      "metadata": {
        "id": "rGLgnB6Y-1CD",
        "colab_type": "text"
      },
      "source": [
        "#2.Copy - They copy method returns a shallow copy of the dictionary."
      ]
    },
    {
      "cell_type": "code",
      "metadata": {
        "id": "Zg4DtfneDauc",
        "colab_type": "code",
        "colab": {
          "base_uri": "https://localhost:8080/",
          "height": 35
        },
        "outputId": "f86497e7-6307-41b5-c11e-cfb68141922c"
      },
      "source": [
        "b={\"sayli\":88,\"pooja\":99}\n",
        "c=b.copy()\n",
        "print(c)"
      ],
      "execution_count": 13,
      "outputs": [
        {
          "output_type": "stream",
          "text": [
            "{'sayli': 88, 'pooja': 99}\n"
          ],
          "name": "stdout"
        }
      ]
    },
    {
      "cell_type": "markdown",
      "metadata": {
        "id": "kDpi76A6EZiV",
        "colab_type": "text"
      },
      "source": [
        "#3.items- Return a new object of the dictionary's items in (key, value) format"
      ]
    },
    {
      "cell_type": "code",
      "metadata": {
        "id": "cpH_XGqyEllF",
        "colab_type": "code",
        "colab": {
          "base_uri": "https://localhost:8080/",
          "height": 35
        },
        "outputId": "a82da151-bab3-45ae-98d2-27513d81df41"
      },
      "source": [
        "d={\"sayli\":66,\"pooja\":77,\"year\":1999}\n",
        "x=d.items()\n",
        "d[\"year\"]=2020\n",
        "print(x)"
      ],
      "execution_count": 14,
      "outputs": [
        {
          "output_type": "stream",
          "text": [
            "dict_items([('sayli', 66), ('pooja', 77), ('year', 2020)])\n"
          ],
          "name": "stdout"
        }
      ]
    },
    {
      "cell_type": "markdown",
      "metadata": {
        "id": "YjMNrczPFyJR",
        "colab_type": "text"
      },
      "source": [
        "#4.pop- The pop() method removes the item with the specified key name:"
      ]
    },
    {
      "cell_type": "code",
      "metadata": {
        "id": "H95mvOD3GIw0",
        "colab_type": "code",
        "colab": {
          "base_uri": "https://localhost:8080/",
          "height": 35
        },
        "outputId": "79b5a16a-dfc2-44a2-f85d-191c0106a274"
      },
      "source": [
        "a={\"sayli\":77,\"pooja\":22}\n",
        "a.pop(\"sayli\")\n",
        "print(a)"
      ],
      "execution_count": 17,
      "outputs": [
        {
          "output_type": "stream",
          "text": [
            "{'pooja': 22}\n"
          ],
          "name": "stdout"
        }
      ]
    },
    {
      "cell_type": "markdown",
      "metadata": {
        "id": "EmbU3gh0Gx_7",
        "colab_type": "text"
      },
      "source": [
        "#5.popitem-The popitem() method removes the last inserted item"
      ]
    },
    {
      "cell_type": "code",
      "metadata": {
        "id": "2y5MyR60GczD",
        "colab_type": "code",
        "colab": {
          "base_uri": "https://localhost:8080/",
          "height": 35
        },
        "outputId": "8c77cefd-86d9-4a84-935e-bb85bb84f059"
      },
      "source": [
        "a={\"name\":\"sayali\",\"age\":66,\"weight\":55}\n",
        "a.popitem()\n",
        "print(a)"
      ],
      "execution_count": 19,
      "outputs": [
        {
          "output_type": "stream",
          "text": [
            "{'name': 'sayali', 'age': 66}\n"
          ],
          "name": "stdout"
        }
      ]
    },
    {
      "cell_type": "markdown",
      "metadata": {
        "id": "i58iKJQaHxgP",
        "colab_type": "text"
      },
      "source": [
        "#sets-set() method is used to convert any of the iterable to sequence of iterable elements with dintinct elements, commonly called Set.A set is a collection which is unordered and unindexed. In Python sets are written with curly brackets.\n",
        "\n",
        "#1.add- Adds an element to the set"
      ]
    },
    {
      "cell_type": "code",
      "metadata": {
        "id": "xXOgQPupKo28",
        "colab_type": "code",
        "colab": {
          "base_uri": "https://localhost:8080/",
          "height": 35
        },
        "outputId": "b0eda752-8c04-4122-b1e0-edb3da292c50"
      },
      "source": [
        "a= {\"apple\", \"banana\", \"cherry\"}\n",
        "a.add(\"orange\")\n",
        "print(a)"
      ],
      "execution_count": 20,
      "outputs": [
        {
          "output_type": "stream",
          "text": [
            "{'banana', 'cherry', 'orange', 'apple'}\n"
          ],
          "name": "stdout"
        }
      ]
    },
    {
      "cell_type": "markdown",
      "metadata": {
        "id": "oUNAwClBLDhh",
        "colab_type": "text"
      },
      "source": [
        "#2.update-Update the set with the union of this set and others"
      ]
    },
    {
      "cell_type": "code",
      "metadata": {
        "id": "EzPR2bebLKMb",
        "colab_type": "code",
        "colab": {
          "base_uri": "https://localhost:8080/",
          "height": 35
        },
        "outputId": "b911ada4-f2c6-4ab9-d9fd-f14dff47bc39"
      },
      "source": [
        "b={\"sayli\",\"pooja\",\"pratee\"}\n",
        "b.update([\"mango\",\"apple\",\"orange\"])\n",
        "print(b)"
      ],
      "execution_count": 22,
      "outputs": [
        {
          "output_type": "stream",
          "text": [
            "{'mango', 'pratee', 'sayli', 'pooja', 'orange', 'apple'}\n"
          ],
          "name": "stdout"
        }
      ]
    },
    {
      "cell_type": "markdown",
      "metadata": {
        "id": "UY3nPxHRL15A",
        "colab_type": "text"
      },
      "source": [
        "#3.Remove- Removes the specified element"
      ]
    },
    {
      "cell_type": "code",
      "metadata": {
        "id": "cf_j0yVyMCmF",
        "colab_type": "code",
        "colab": {
          "base_uri": "https://localhost:8080/",
          "height": 35
        },
        "outputId": "8dd687bd-b3e3-4af3-9a01-e58dbe4c10d0"
      },
      "source": [
        "a={\"sayli\",\"pooja\",\"pratee\"}\n",
        "a.remove(\"pratee\")\n",
        "print(a)"
      ],
      "execution_count": 23,
      "outputs": [
        {
          "output_type": "stream",
          "text": [
            "{'pooja', 'sayli'}\n"
          ],
          "name": "stdout"
        }
      ]
    },
    {
      "cell_type": "markdown",
      "metadata": {
        "id": "TJR5dOVaMPvj",
        "colab_type": "text"
      },
      "source": [
        "#4.pop- Removes an element from the set"
      ]
    },
    {
      "cell_type": "code",
      "metadata": {
        "id": "kMVbZApJMjI-",
        "colab_type": "code",
        "colab": {
          "base_uri": "https://localhost:8080/",
          "height": 54
        },
        "outputId": "580f73f2-6f46-4cd3-a38f-153173cfbab3"
      },
      "source": [
        "a={\"sayli\",\"pooja\",\"pratee\"}\n",
        "x=a.pop()\n",
        "print(x)\n",
        "print(a)"
      ],
      "execution_count": 24,
      "outputs": [
        {
          "output_type": "stream",
          "text": [
            "pooja\n",
            "{'pratee', 'sayli'}\n"
          ],
          "name": "stdout"
        }
      ]
    },
    {
      "cell_type": "markdown",
      "metadata": {
        "id": "8u70TGL9M_dI",
        "colab_type": "text"
      },
      "source": [
        "#5.union- Return a set containing the union of sets"
      ]
    },
    {
      "cell_type": "code",
      "metadata": {
        "id": "cLJneHFDLfBy",
        "colab_type": "code",
        "colab": {
          "base_uri": "https://localhost:8080/",
          "height": 35
        },
        "outputId": "ac1ac625-00ef-4b6e-a008-bdffbd244a77"
      },
      "source": [
        "a1={\"one\",\"two\",\"three\"}\n",
        "a2={1,2,3}\n",
        "a3=a1.union(a2)\n",
        "print(a3)"
      ],
      "execution_count": 25,
      "outputs": [
        {
          "output_type": "stream",
          "text": [
            "{1, 'two', 2, 3, 'one', 'three'}\n"
          ],
          "name": "stdout"
        }
      ]
    },
    {
      "cell_type": "markdown",
      "metadata": {
        "id": "9dVPRQgCNut8",
        "colab_type": "text"
      },
      "source": [
        "#Tuple-A tuple is a collection which is ordered and unchangeable. In Python tuples are written with round brackets.\n",
        "\n",
        "#1.count-Returns the number of times a specified value occurs in a tuple"
      ]
    },
    {
      "cell_type": "code",
      "metadata": {
        "id": "XoKfoG3nNguY",
        "colab_type": "code",
        "colab": {
          "base_uri": "https://localhost:8080/",
          "height": 35
        },
        "outputId": "b9cf15f9-f8c2-4a68-e00d-e7f27485b56d"
      },
      "source": [
        "a=(1,2,3,4,4,5,6,7)\n",
        "b=a.count(4)\n",
        "print(b)"
      ],
      "execution_count": 26,
      "outputs": [
        {
          "output_type": "stream",
          "text": [
            "2\n"
          ],
          "name": "stdout"
        }
      ]
    },
    {
      "cell_type": "markdown",
      "metadata": {
        "id": "tYrbCesNXFSV",
        "colab_type": "text"
      },
      "source": [
        "#index- Searches the tuple for a specified value and returns the position of where it was found"
      ]
    },
    {
      "cell_type": "code",
      "metadata": {
        "id": "ApNEM9zBXCd7",
        "colab_type": "code",
        "colab": {
          "base_uri": "https://localhost:8080/",
          "height": 35
        },
        "outputId": "45285570-7937-4e51-d5b6-3381313e5878"
      },
      "source": [
        "a=(1,2,3,4,5,6,7)\n",
        "b=a.index(6)\n",
        "print(b)"
      ],
      "execution_count": 28,
      "outputs": [
        {
          "output_type": "stream",
          "text": [
            "5\n"
          ],
          "name": "stdout"
        }
      ]
    },
    {
      "cell_type": "markdown",
      "metadata": {
        "id": "FIW2ktYkXri1",
        "colab_type": "text"
      },
      "source": [
        "#string-  strings in Python are arrays of bytes representing unicode characters. However, Python does not have a character data type, a single character is simply a string with a length of 1. Square brackets can be used to access elements of the string.\n",
        "\n",
        "#1.strip-The strip() method removes any whitespace from the beginning or the end"
      ]
    },
    {
      "cell_type": "code",
      "metadata": {
        "id": "ar06YmOUXnQf",
        "colab_type": "code",
        "colab": {
          "base_uri": "https://localhost:8080/",
          "height": 35
        },
        "outputId": "34aa48c1-d426-4ff5-b3f7-4488bc68878e"
      },
      "source": [
        "a=\" letsupgrade! \"\n",
        "print(a.strip())"
      ],
      "execution_count": 30,
      "outputs": [
        {
          "output_type": "stream",
          "text": [
            "letsupgrade!\n"
          ],
          "name": "stdout"
        }
      ]
    },
    {
      "cell_type": "markdown",
      "metadata": {
        "id": "bJXdrOMiaof3",
        "colab_type": "text"
      },
      "source": [
        "#2.split-Split a string into a list where each word is a list item:"
      ]
    },
    {
      "cell_type": "code",
      "metadata": {
        "id": "3WIcTOFMaVdK",
        "colab_type": "code",
        "colab": {
          "base_uri": "https://localhost:8080/",
          "height": 35
        },
        "outputId": "36da8eff-94ad-4b59-9c3d-68e91d4a9dec"
      },
      "source": [
        "a=\"hey python rowdies\"\n",
        "b=a.split()\n",
        "print(b)"
      ],
      "execution_count": 31,
      "outputs": [
        {
          "output_type": "stream",
          "text": [
            "['hey', 'python', 'rowdies']\n"
          ],
          "name": "stdout"
        }
      ]
    },
    {
      "cell_type": "markdown",
      "metadata": {
        "id": "93XxiCLVbZyy",
        "colab_type": "text"
      },
      "source": [
        "#3.join- Joins the elements of an iterable to the end of the string"
      ]
    },
    {
      "cell_type": "code",
      "metadata": {
        "id": "vOobJUKPbC0_",
        "colab_type": "code",
        "colab": {
          "base_uri": "https://localhost:8080/",
          "height": 35
        },
        "outputId": "ee82c5ea-e068-43d6-d422-5a84c58ec455"
      },
      "source": [
        "a=(\"sayli\",\"pooja\",\"pratee\")\n",
        "x=\"#\".join(a)\n",
        "print(x)"
      ],
      "execution_count": 33,
      "outputs": [
        {
          "output_type": "stream",
          "text": [
            "sayli#pooja#pratee\n"
          ],
          "name": "stdout"
        }
      ]
    },
    {
      "cell_type": "markdown",
      "metadata": {
        "id": "uIi93ke2b7xV",
        "colab_type": "text"
      },
      "source": [
        "#4.find- Searches the string for a specified value and returns the position of where it was found"
      ]
    },
    {
      "cell_type": "code",
      "metadata": {
        "id": "W5fv5acabnDF",
        "colab_type": "code",
        "colab": {
          "base_uri": "https://localhost:8080/",
          "height": 35
        },
        "outputId": "59c75c79-b236-4311-afa9-f3e2b1cdc876"
      },
      "source": [
        "a=\"hello letsupgraders\"\n",
        "x=a.find(\"hello\")\n",
        "print(x)"
      ],
      "execution_count": 35,
      "outputs": [
        {
          "output_type": "stream",
          "text": [
            "0\n"
          ],
          "name": "stdout"
        }
      ]
    },
    {
      "cell_type": "markdown",
      "metadata": {
        "id": "mDvce6RQcgWq",
        "colab_type": "text"
      },
      "source": [
        "#5.centre - Returns a centered string"
      ]
    },
    {
      "cell_type": "code",
      "metadata": {
        "id": "VU7nhSiNcVbf",
        "colab_type": "code",
        "colab": {
          "base_uri": "https://localhost:8080/",
          "height": 35
        },
        "outputId": "7e8f84de-2536-4d8c-c399-24d861b8de71"
      },
      "source": [
        "a=\"LETSUPGRADE\"\n",
        "x=a.center(50)\n",
        "print(x)"
      ],
      "execution_count": 36,
      "outputs": [
        {
          "output_type": "stream",
          "text": [
            "                   LETSUPGRADE                    \n"
          ],
          "name": "stdout"
        }
      ]
    },
    {
      "cell_type": "code",
      "metadata": {
        "id": "C4yHDmCRdVpu",
        "colab_type": "code",
        "colab": {}
      },
      "source": [
        ""
      ],
      "execution_count": null,
      "outputs": []
    }
  ]
}